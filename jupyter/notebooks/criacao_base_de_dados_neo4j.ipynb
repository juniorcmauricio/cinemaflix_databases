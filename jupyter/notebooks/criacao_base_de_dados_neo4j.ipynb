{
 "cells": [
  {
   "cell_type": "markdown",
   "id": "4d3c4a80-86cf-40ee-b9fe-4f9536aa8847",
   "metadata": {},
   "source": [
    "# Neo4j - Criação da base de dados \"mockada\""
   ]
  },
  {
   "cell_type": "code",
   "execution_count": 48,
   "id": "39b9ae26-fb60-4577-9d6f-d2aac63fe0c7",
   "metadata": {},
   "outputs": [],
   "source": [
    "%reload_ext neo4j_cypher_query"
   ]
  },
  {
   "cell_type": "code",
   "execution_count": 46,
   "id": "314b0841-1e0f-4367-875c-ba9223f571d3",
   "metadata": {
    "scrolled": true
   },
   "outputs": [
    {
     "name": "stdout",
     "output_type": "stream",
     "text": [
      "Connection to Neo4j successful.\n",
      "Clearing existing database...\n",
      "Database cleared.\n",
      "Creating graph nodes and relationships...\n",
      "Graph data GÊNEROS created successfully.\n",
      "Graph data VÍDEOS created successfully.\n",
      "Graph data ASSOCIAR VÍDEOS A GÊNEROS created successfully.\n",
      "Graph data USUÁRIOS created successfully.\n",
      "Graph data VISUALIZAÇÕES ALEATÓRIAS created successfully.\n",
      "Graph data CURTIDAS created successfully.\n",
      "Graph data AVALIAÇÕES (RATING) created successfully.\n",
      "Graph data GÊNERO FAVORITO created successfully.\n",
      "Graph data created successfully.\n",
      "\n",
      "Neo4j setup is complete!\n",
      "Connection to Neo4j is closed.\n"
     ]
    }
   ],
   "source": [
    "from neo4j import GraphDatabase\n",
    "\n",
    "def setup_neo4j():\n",
    "    \"\"\"\n",
    "    Connects to the Neo4j database, clears existing data,\n",
    "    and creates a new graph structure with sample nodes and relationships.\n",
    "    \"\"\"\n",
    "    uri = \"neo4j://neo4j:7687\"\n",
    "    user = \"neo4j\"\n",
    "    password = \"strong_password\"\n",
    "    driver = None\n",
    "\n",
    "    try:\n",
    "        # --- 1. ESTABLISH CONNECTION ---\n",
    "        driver = GraphDatabase.driver(uri, auth=(user, password))\n",
    "        session = driver.session()\n",
    "        print(\"Connection to Neo4j successful.\")\n",
    "\n",
    "        # --- 2. CLEAR EXISTING DATABASE (for a clean setup) ---\n",
    "        print(\"Clearing existing database...\")\n",
    "        session.run(\"MATCH (n) DETACH DELETE n\")\n",
    "        print(\"Database cleared.\")\n",
    "\n",
    "        # --- 3. CREATE GRAPH SCHEMA AND DATA ---\n",
    "        print(\"Creating graph nodes and relationships...\")\n",
    "        # This single, large query creates all nodes and relationships in one go.\n",
    "        # MERGE is used to avoid creating duplicates if run multiple times.\n",
    "        graph_query = \"\"\"\n",
    "// ===============================\n",
    "// Apagar tudo \n",
    "// ===============================\n",
    "\n",
    "MATCH (n)\n",
    "DETACH DELETE n\n",
    "        \"\"\"\n",
    "        session.run(graph_query)\n",
    "        graph_query = \"\"\"\n",
    "// ===============================\n",
    "// GÊNEROS\n",
    "// ===============================\n",
    "MERGE (:Genre {nome: \"Ação\"})\n",
    "MERGE (:Genre {nome: \"Drama\"})\n",
    "MERGE (:Genre {nome: \"Comédia\"})\n",
    "MERGE (:Genre {nome: \"Ficção\"})\n",
    "MERGE (:Genre {nome: \"Suspense\"})\n",
    "        \"\"\"\n",
    "        session.run(graph_query)\n",
    "        print(\"Graph data GÊNEROS created successfully.\")\n",
    "        graph_query = \"\"\"\n",
    "// ===============================\n",
    "//  VÍDEOS\n",
    "// ===============================\n",
    "CREATE\n",
    "  (v1:Video {id: \"v1\", titulo: \"Matrix\", tipo: \"filme\"}),\n",
    "  (v2:Video {id: \"v2\", titulo: \"Inception\", tipo: \"filme\"}),\n",
    "  (v3:Video {id: \"v3\", titulo: \"Breaking Bad\", tipo: \"serie\"}),\n",
    "  (v4:Video {id: \"v4\", titulo: \"Stranger Things\", tipo: \"serie\"}),\n",
    "  (v5:Video {id: \"v5\", titulo: \"O Poderoso Chefão\", tipo: \"filme\"}),\n",
    "  (v6:Video {id: \"v6\", titulo: \"Friends\", tipo: \"serie\"}),\n",
    "  (v7:Video {id: \"v7\", titulo: \"The Office\", tipo: \"serie\"}),\n",
    "  (v8:Video {id: \"v8\", titulo: \"John Wick\", tipo: \"filme\"}),\n",
    "  (v9:Video {id: \"v9\", titulo: \"Dark\", tipo: \"serie\"}),\n",
    "  (v10:Video {id: \"v10\", titulo: \"La Casa de Papel\", tipo: \"serie\"}),\n",
    "  (v11:Video {id: \"v11\", titulo: \"Black Mirror\", tipo: \"serie\"}),\n",
    "  (v12:Video {id: \"v12\", titulo: \"Sherlock\", tipo: \"serie\"}),\n",
    "  (v13:Video {id: \"v13\", titulo: \"Vikings\", tipo: \"serie\"}),\n",
    "  (v14:Video {id: \"v14\", titulo: \"Peaky Blinders\", tipo: \"serie\"}),\n",
    "  (v15:Video {id: \"v15\", titulo: \"The Mandalorian\", tipo: \"serie\"})\n",
    "\n",
    "        \"\"\"\n",
    "        session.run(graph_query)\n",
    "        print(\"Graph data VÍDEOS created successfully.\")\n",
    "        graph_query = \"\"\"\n",
    "        \n",
    "// ===============================\n",
    "//  ASSOCIAR VÍDEOS A GÊNEROS\n",
    "// ===============================\n",
    "MATCH (a:Genre {nome: \"Ação\"}), (d:Genre {nome: \"Drama\"}), (c:Genre {nome: \"Comédia\"}), \n",
    "      (f:Genre {nome: \"Ficção\"}), (s:Genre {nome: \"Suspense\"})\n",
    "MATCH \n",
    "  (v1:Video {id: \"v1\"}), (v2:Video {id: \"v2\"}), (v3:Video {id: \"v3\"}), (v4:Video {id: \"v4\"}),\n",
    "  (v5:Video {id: \"v5\"}), (v6:Video {id: \"v6\"}), (v7:Video {id: \"v7\"}), (v8:Video {id: \"v8\"}),\n",
    "  (v9:Video {id: \"v9\"}), (v10:Video {id: \"v10\"}), (v11:Video {id: \"v11\"}), (v12:Video {id: \"v12\"}),\n",
    "  (v13:Video {id: \"v13\"}), (v14:Video {id: \"v14\"}), (v15:Video {id: \"v15\"})\n",
    "MERGE (v1)-[:HAS_GENRE]->(a)\n",
    "MERGE (v2)-[:HAS_GENRE]->(f)\n",
    "MERGE (v3)-[:HAS_GENRE]->(d)\n",
    "MERGE (v4)-[:HAS_GENRE]->(f)\n",
    "MERGE (v5)-[:HAS_GENRE]->(d)\n",
    "MERGE (v6)-[:HAS_GENRE]->(c)\n",
    "MERGE (v7)-[:HAS_GENRE]->(c)\n",
    "MERGE (v8)-[:HAS_GENRE]->(a)\n",
    "MERGE (v9)-[:HAS_GENRE]->(s)\n",
    "MERGE (v10)-[:HAS_GENRE]->(a)\n",
    "MERGE (v11)-[:HAS_GENRE]->(s)\n",
    "MERGE (v12)-[:HAS_GENRE]->(s)\n",
    "MERGE (v13)-[:HAS_GENRE]->(a)\n",
    "MERGE (v14)-[:HAS_GENRE]->(d)\n",
    "MERGE (v15)-[:HAS_GENRE]->(f);\n",
    "\n",
    "        \"\"\"\n",
    "        session.run(graph_query)\n",
    "        print(\"Graph data ASSOCIAR VÍDEOS A GÊNEROS created successfully.\")\n",
    "        graph_query = \"\"\"\n",
    "        \n",
    "// ===============================\n",
    "// USUÁRIOS\n",
    "// ===============================\n",
    "UNWIND range(1, 10) AS i\n",
    "CREATE (:User {id: 'u' + i, nome: 'Usuario ' + i});\n",
    "\n",
    "        \"\"\"\n",
    "        session.run(graph_query)\n",
    "        print(\"Graph data USUÁRIOS created successfully.\")\n",
    "        graph_query = \"\"\"\n",
    "        \n",
    "// ===============================\n",
    "// VISUALIZAÇÕES ALEATÓRIAS\n",
    "// ===============================\n",
    "UNWIND range(1, 10) AS i\n",
    "MATCH (u:User {id: 'u' + i})\n",
    "WITH u\n",
    "MATCH (v:Video)\n",
    "WITH u, v, rand() AS r\n",
    "WHERE r < 0.6\n",
    "MERGE (u)-[:WATCHED {timestamp: timestamp()}]->(v);\n",
    "\n",
    "        \"\"\"\n",
    "        session.run(graph_query)\n",
    "        print(\"Graph data VISUALIZAÇÕES ALEATÓRIAS created successfully.\")\n",
    "        graph_query = \"\"\"\n",
    "        \n",
    "// ===============================\n",
    "//  CURTIDAS\n",
    "// ===============================\n",
    "MATCH (u:User)-[w:WATCHED]->(v:Video)\n",
    "WITH u, v, rand() AS r\n",
    "WHERE r < 0.3\n",
    "MERGE (u)-[:LIKED]->(v);\n",
    "\n",
    "        \"\"\"\n",
    "        session.run(graph_query)\n",
    "        print(\"Graph data CURTIDAS created successfully.\")\n",
    "        graph_query = \"\"\"\n",
    "        \n",
    "// ===============================\n",
    "// AVALIAÇÕES (RATING)\n",
    "// ===============================\n",
    "MATCH (u:User)-[w:WATCHED]->(v:Video)\n",
    "WITH u, v, rand() AS r\n",
    "WHERE r < 0.5\n",
    "WITH u, v, toInteger(1 + rand() * 5) AS nota\n",
    "MERGE (u)-[:RATED {nota: nota}]->(v);\n",
    "\n",
    "        \"\"\"\n",
    "        session.run(graph_query)\n",
    "        print(\"Graph data AVALIAÇÕES (RATING) created successfully.\")\n",
    "        graph_query = \"\"\"\n",
    "        \n",
    "\n",
    "// ===============================\n",
    "// GÊNERO FAVORITO\n",
    "// ===============================\n",
    "MATCH (:User)-[r:FAVORITE_GENRE]->(:Genre)\n",
    "DELETE r;\n",
    "\n",
    "        \"\"\"\n",
    "        session.run(graph_query)\n",
    "        graph_query = \"\"\"\n",
    "        \n",
    "MATCH (u:User)-[:WATCHED]->(v:Video)-[:HAS_GENRE]->(g:Genre)\n",
    "WITH u, g, count(*) AS qtd\n",
    "ORDER BY qtd DESC\n",
    "WITH u, collect({g: g, qtd: qtd}) AS generos\n",
    "\n",
    "UNWIND generos AS item\n",
    "WITH u, item.g AS g, item.qtd AS qtd, generos[0].qtd AS max_qtd\n",
    "WHERE qtd = max_qtd\n",
    "MERGE (u)-[:FAVORITE_GENRE]->(g);\n",
    "\n",
    "        \"\"\"\n",
    "        session.run(graph_query)\n",
    "        print(\"Graph data GÊNERO FAVORITO created successfully.\")\n",
    "        \n",
    "        print(\"Graph data created successfully.\")\n",
    "        print(\"\\nNeo4j setup is complete!\")\n",
    "\n",
    "    except Exception as e:\n",
    "        print(f\" Error during Neo4j setup: {e}\")\n",
    "    finally:\n",
    "        if driver:\n",
    "            driver.close()\n",
    "            print(\"Connection to Neo4j is closed.\")\n",
    "\n",
    "# --- Execute the setup function ---\n",
    "setup_neo4j()"
   ]
  },
  {
   "cell_type": "markdown",
   "id": "19191a60-47a5-47aa-a31e-1b3d34cdcae4",
   "metadata": {},
   "source": [
    "# Visualizar a base de dados:"
   ]
  },
  {
   "cell_type": "code",
   "execution_count": 54,
   "id": "545ceb8c-6eb2-403d-8736-de03bf04009d",
   "metadata": {},
   "outputs": [
    {
     "name": "stdout",
     "output_type": "stream",
     "text": [
      "\n"
     ]
    },
    {
     "data": {
      "application/vnd.jupyter.widget-view+json": {
       "model_id": "9c882fd6649a4604bd286008580ccf5e",
       "version_major": 2,
       "version_minor": 0
      },
      "text/plain": [
       "GraphWidget(layout=Layout(height='800px', width='100%'))"
      ]
     },
     "metadata": {},
     "output_type": "display_data"
    }
   ],
   "source": [
    "%%cypher\n",
    "\n",
    "match (a)-[r]->(b)\n",
    "match (c)\n",
    "\n",
    "return *"
   ]
  },
  {
   "cell_type": "markdown",
   "id": "a4243b5a-420e-44de-94e3-28830a3fa22e",
   "metadata": {},
   "source": [
    "# Recomendacao outros filmes e séries do tipo Quem viu, viu também para o usuário u1\n",
    "##### OBS: Pode ser necessário trocar o u1 por u2 ... u10"
   ]
  },
  {
   "cell_type": "code",
   "execution_count": 92,
   "id": "6628b5fe-439c-4431-b88f-fbf88913214b",
   "metadata": {},
   "outputs": [
    {
     "name": "stdout",
     "output_type": "stream",
     "text": [
      "\n"
     ]
    },
    {
     "data": {
      "application/vnd.jupyter.widget-view+json": {
       "model_id": "287fd9089e0c43988b5096f0dbb9872e",
       "version_major": 2,
       "version_minor": 0
      },
      "text/plain": [
       "GraphWidget(layout=Layout(height='500px', width='100%'))"
      ]
     },
     "metadata": {},
     "output_type": "display_data"
    }
   ],
   "source": [
    "%%cypher\n",
    "\n",
    "MATCH (u1:User {id: \"u1\"})-[:WATCHED]->(v:Video)<-[:WATCHED]-(u2:User)-[:WATCHED]->(rec:Video)\n",
    "WHERE u1 <> u2 AND NOT (u1)-[:WATCHED]->(rec)\n",
    "RETURN DISTINCT rec AS recomendacao\n",
    "LIMIT 5;\n"
   ]
  },
  {
   "cell_type": "markdown",
   "id": "8960cbc5-a31a-4555-aec8-a8e0363fafcd",
   "metadata": {},
   "source": [
    "# Recomendação filmes e séries mais bem avaliados por todos os usuários (média da nota). \n",
    "##### Útil para a seção EM ALTA no protótipo.\n"
   ]
  },
  {
   "cell_type": "code",
   "execution_count": 101,
   "id": "126ae6cd-ead8-4ed8-ba43-a770f7612ac4",
   "metadata": {},
   "outputs": [
    {
     "name": "stdout",
     "output_type": "stream",
     "text": [
      "\n"
     ]
    },
    {
     "data": {
      "application/vnd.jupyter.widget-view+json": {
       "model_id": "08d49ceaf7044cae898ecca569b70aef",
       "version_major": 2,
       "version_minor": 0
      },
      "text/plain": [
       "GraphWidget(layout=Layout(height='500px', width='100%'))"
      ]
     },
     "metadata": {},
     "output_type": "display_data"
    }
   ],
   "source": [
    "%%cypher\n",
    "\n",
    "MATCH (v:Video)<-[r:RATED]-()\n",
    "RETURN v, avg(r.nota) AS media, count(*) AS votos\n",
    "ORDER BY media DESC, votos DESC\n",
    "LIMIT 5;\n"
   ]
  },
  {
   "cell_type": "markdown",
   "id": "be4d2a22-f81f-4130-b580-c09cbf9f9e42",
   "metadata": {},
   "source": [
    "# Recomendação filmes e séries para o usuario u1 com base nos seus gêneros favoritos. \n",
    "##### Útil para a seção PARA VOCÊ  no protótipo.\n",
    "##### OBS: Pode ser necessário trocar o u1 por u2 ... u10"
   ]
  },
  {
   "cell_type": "code",
   "execution_count": 104,
   "id": "7e35b67d-dfa0-4db3-962e-51efb204ef64",
   "metadata": {},
   "outputs": [
    {
     "name": "stdout",
     "output_type": "stream",
     "text": [
      "\n"
     ]
    },
    {
     "data": {
      "application/vnd.jupyter.widget-view+json": {
       "model_id": "05e183ae8bc64075bf462376d957e174",
       "version_major": 2,
       "version_minor": 0
      },
      "text/plain": [
       "GraphWidget(layout=Layout(height='500px', width='100%'))"
      ]
     },
     "metadata": {},
     "output_type": "display_data"
    }
   ],
   "source": [
    "%%cypher\n",
    "\n",
    "MATCH (u:User {id: \"u1\"})-[:FAVORITE_GENRE]->(g:Genre)\n",
    "MATCH (rec:Video)-[:HAS_GENRE]->(g)\n",
    "WHERE NOT (u)-[:WATCHED]->(rec)\n",
    "RETURN DISTINCT rec \n",
    "LIMIT 5;\n"
   ]
  },
  {
   "cell_type": "markdown",
   "id": "12a2a4aa-5fb5-4b24-9ff8-47d2b73472ef",
   "metadata": {},
   "source": [
    "# Recomendação de filmes e séries mais bem avaliados por todos os usuários (média da nota). \n",
    "##### Útil para a seção EM ALTA no protótipo.\n",
    "##### OBS: Pode ser necessário trocar o u1 por u2 ... u10\n"
   ]
  },
  {
   "cell_type": "code",
   "execution_count": 106,
   "id": "217b40ee-2555-413b-8d96-44e4b865b0cc",
   "metadata": {},
   "outputs": [
    {
     "name": "stdout",
     "output_type": "stream",
     "text": [
      "\n"
     ]
    },
    {
     "data": {
      "application/vnd.jupyter.widget-view+json": {
       "model_id": "973944305140460ebd174d107f13faae",
       "version_major": 2,
       "version_minor": 0
      },
      "text/plain": [
       "GraphWidget(layout=Layout(height='500px', width='100%'))"
      ]
     },
     "metadata": {},
     "output_type": "display_data"
    }
   ],
   "source": [
    "%%cypher\n",
    "\n",
    "MATCH (v:Video)<-[r:RATED]-()\n",
    "RETURN v, avg(r.nota) AS media, count(*) AS votos\n",
    "ORDER BY media DESC, votos DESC\n",
    "LIMIT 5;\n"
   ]
  },
  {
   "cell_type": "markdown",
   "id": "96565f02-ffe8-4232-b96d-eedf1d931f0b",
   "metadata": {},
   "source": [
    "# Recomendação dos filmes mais assistidos nos últimos 30 dias por gênero. \n",
    "##### Útil para a seção EM ALTA no protótipo.\n",
    "##### OBS: Pode ser necessário trocar o Ação por outro gênero\n"
   ]
  },
  {
   "cell_type": "code",
   "execution_count": 108,
   "id": "0fac60c2-096a-41b4-b583-848c674c26b1",
   "metadata": {},
   "outputs": [
    {
     "name": "stdout",
     "output_type": "stream",
     "text": [
      "\n"
     ]
    },
    {
     "data": {
      "application/vnd.jupyter.widget-view+json": {
       "model_id": "1fc5a375f4d24cce89961249bb82a983",
       "version_major": 2,
       "version_minor": 0
      },
      "text/plain": [
       "GraphWidget(layout=Layout(height='500px', width='100%'))"
      ]
     },
     "metadata": {},
     "output_type": "display_data"
    }
   ],
   "source": [
    "%%cypher\n",
    "\n",
    "WITH timestamp() AS agora\n",
    "MATCH (u:User)-[w:WATCHED]->(v:Video)-[:HAS_GENRE]->(g:Genre {nome: \"Ação\"})\n",
    "WHERE w.timestamp >= agora - 1000 * 60 * 60 * 24 * 30\n",
    "RETURN v, count(*) AS visualizacoes\n",
    "ORDER BY visualizacoes DESC\n",
    "LIMIT 10;\n"
   ]
  }
 ],
 "metadata": {
  "kernelspec": {
   "display_name": "Python 3 (ipykernel)",
   "language": "python",
   "name": "python3"
  },
  "language_info": {
   "codemirror_mode": {
    "name": "ipython",
    "version": 3
   },
   "file_extension": ".py",
   "mimetype": "text/x-python",
   "name": "python",
   "nbconvert_exporter": "python",
   "pygments_lexer": "ipython3",
   "version": "3.11.6"
  }
 },
 "nbformat": 4,
 "nbformat_minor": 5
}
